{
 "cells": [
  {
   "cell_type": "code",
   "execution_count": 1,
   "id": "4f916e6a-cf59-44e5-bb90-e12a448ca8e9",
   "metadata": {},
   "outputs": [
    {
     "name": "stdout",
     "output_type": "stream",
     "text": [
      "Value of x is 10 and value of y is 20\n",
      "\n",
      "After Swapping value of x is 20 and value of y is 10\n"
     ]
    }
   ],
   "source": [
    "'''Python Basics Variable Assignment''' \n",
    "'''1. Declare two variables, `x` and `y`, and assign them integer values. Swap the\n",
    "values of these variables without using any temporary variable.'''\n",
    "x, y= 10, 20\n",
    "print(\"Value of x is\",  x, \"and value of y is\", y)\n",
    "\n",
    "temp = y\n",
    "y=x    #Assigning value of x to y\n",
    "x=temp #Assiging value of y which was stored in temp to x\n",
    "print(\"\\nAfter Swapping value of x is\", x ,\"and value of y is\", y)\n"
   ]
  },
  {
   "cell_type": "code",
   "execution_count": 4,
   "id": "8ec9bb7f-88a7-4f80-97c1-e0232f080571",
   "metadata": {},
   "outputs": [
    {
     "name": "stdin",
     "output_type": "stream",
     "text": [
      "Enter the length of rectangle:  3\n",
      "Enter the width of rectangle:  4\n"
     ]
    },
    {
     "name": "stdout",
     "output_type": "stream",
     "text": [
      "Area of rectangle is  12\n"
     ]
    }
   ],
   "source": [
    "'''Create a program that calculates the area of a rectangle. Take the length and\n",
    "width as inputs from the user and store them in variables. Calculate and\n",
    "display the area.'''\n",
    "\n",
    "length=int(input(\"Enter the length of rectangle: \"))\n",
    "width=int(input(\"Enter the width of rectangle: \"))\n",
    "\n",
    "print (\"Area of rectangle is \", length * width )\n",
    "\n"
   ]
  },
  {
   "cell_type": "code",
   "execution_count": 6,
   "id": "09d47580-2965-4e6c-9a54-bb91178ef26d",
   "metadata": {},
   "outputs": [
    {
     "name": "stdin",
     "output_type": "stream",
     "text": [
      "Enter the temperature in Celsius:  10\n"
     ]
    },
    {
     "name": "stdout",
     "output_type": "stream",
     "text": [
      "Temparature in farenhite : 50.0\n"
     ]
    }
   ],
   "source": [
    "'''Write a Python program that converts temperatures from Celsius to\n",
    "Fahrenheit. Take the temperature in Celsius as input, store it in a variable,\n",
    "convert it to Fahrenheit, and display the result.'''\n",
    "celsius_temp = int(input(\"Enter the temperature in Celsius: \"))\n",
    "print (\"Temparature in farenhite :\", (1.8*celsius_temp)+32)"
   ]
  },
  {
   "cell_type": "code",
   "execution_count": 4,
   "id": "2f9ec479-c84a-4e4d-8ff0-c165e1a01a90",
   "metadata": {},
   "outputs": [
    {
     "name": "stdin",
     "output_type": "stream",
     "text": [
      "Enter a string:  Hansika Manoj\n"
     ]
    },
    {
     "name": "stdout",
     "output_type": "stream",
     "text": [
      "Length of the string entered is:  13\n"
     ]
    }
   ],
   "source": [
    "'''1. Write a Python program that takes a string as input and prints the length of\n",
    "the string.'''\n",
    "input_string = str(input(\"Enter a string: \"))\n",
    "print (\"Length of the string entered is: \",len(input_string))"
   ]
  },
  {
   "cell_type": "code",
   "execution_count": 16,
   "id": "de6cfe20-9219-4045-bd4a-b35bd570d522",
   "metadata": {},
   "outputs": [
    {
     "name": "stdin",
     "output_type": "stream",
     "text": [
      "Enter a sentence:  Very happy with the progress in th DS class\n"
     ]
    },
    {
     "name": "stdout",
     "output_type": "stream",
     "text": [
      "Count of letter a in the input sentence is:  8\n"
     ]
    }
   ],
   "source": [
    "'''2. Create a program that takes a sentence from the user and counts the number\n",
    "of vowels (a, e, i, o, u) in the string. '''\n",
    "input_sentence = str(input(\"Enter a sentence: \"))\n",
    "vowels = \"aeiouAEIOU\"\n",
    "count_vowels = sum(input_sentence.count(vowel) for vowel in vowels)\n",
    "print (\"Count of letter a in the input sentence is: \",count_vowels)\n"
   ]
  },
  {
   "cell_type": "code",
   "execution_count": 17,
   "id": "21ffdcaf-a908-4a83-aab4-5a54bb0ead8b",
   "metadata": {},
   "outputs": [
    {
     "name": "stdin",
     "output_type": "stream",
     "text": [
      "Enter a string:  Hello\n"
     ]
    },
    {
     "name": "stdout",
     "output_type": "stream",
     "text": [
      "Reversed string is:  olleH\n"
     ]
    }
   ],
   "source": [
    "'''3. Given a string, reverse the order of characters using string slicing and print\n",
    "the reversed string. '''\n",
    "input_string = str(input(\"Enter a string: \"))\n",
    "print (\"Reversed string is: \",input_string[::-1] )"
   ]
  },
  {
   "cell_type": "code",
   "execution_count": 24,
   "id": "8337c16e-22b6-449f-bf54-5648c643bba0",
   "metadata": {},
   "outputs": [
    {
     "name": "stdin",
     "output_type": "stream",
     "text": [
      "Enter a string:  Madam\n"
     ]
    },
    {
     "name": "stdout",
     "output_type": "stream",
     "text": [
      "reversed_string madaM\n",
      "String is a palindrome Madam\n"
     ]
    }
   ],
   "source": [
    "'''4. Write a program that takes a string as input and checks if it is a palindrome\n",
    "(reads the same forwards and backwards). '''\n",
    "input_string = str(input(\"Enter a string: \"))\n",
    "reversed_string = input_string[::-1]\n",
    "print (\"reversed_string\",reversed_string )\n",
    "if input_string.lower()==reversed_string.lower():\n",
    "    print (\"String is a palindrome\",input_string )\n",
    "else:\n",
    "    print (\"String is not a palindrome\")"
   ]
  },
  {
   "cell_type": "code",
   "execution_count": 30,
   "id": "f6a90c6e-6ec1-40c0-86e9-a94fa45542ee",
   "metadata": {},
   "outputs": [
    {
     "name": "stdin",
     "output_type": "stream",
     "text": [
      "Enter a string:     Hi.   There.  !!!   \n"
     ]
    },
    {
     "name": "stdout",
     "output_type": "stream",
     "text": [
      "Hi.There.!!!\n"
     ]
    }
   ],
   "source": [
    "'''\n",
    "5. Create a program that takes a string as input and removes all the spaces from\n",
    "it. Print the modified string without spaces. '''\n",
    "input_string = str(input(\"Enter a string: \"))\n",
    "stripping_spaces_beigging_end = input_string.strip()\n",
    "v= stripping_spaces_beigging_end.split()\n",
    "final=''\n",
    "for values in v:\n",
    "    final += values\n",
    "print (final)    "
   ]
  },
  {
   "cell_type": "code",
   "execution_count": null,
   "id": "d785d7b1-cd0f-463e-b238-e88ebb874679",
   "metadata": {},
   "outputs": [],
   "source": []
  }
 ],
 "metadata": {
  "kernelspec": {
   "display_name": "Python 3 (ipykernel)",
   "language": "python",
   "name": "python3"
  },
  "language_info": {
   "codemirror_mode": {
    "name": "ipython",
    "version": 3
   },
   "file_extension": ".py",
   "mimetype": "text/x-python",
   "name": "python",
   "nbconvert_exporter": "python",
   "pygments_lexer": "ipython3",
   "version": "3.10.8"
  }
 },
 "nbformat": 4,
 "nbformat_minor": 5
}
